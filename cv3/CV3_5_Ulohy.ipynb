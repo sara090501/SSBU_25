{
 "cells": [
  {
   "cell_type": "markdown",
   "id": "4921d6aa-e242-4899-bba3-145ad960b024",
   "metadata": {},
   "source": [
    "# SSBU CV3: Doplnkové úlohy na prácu s databázami\n",
    "\n",
    "#### 1. GenBank\n",
    "\n",
    "1.1.a. V databáze Genbank Nucleotide vyhľadajte \"INS tunicates\" (vyhľadanie INS génu)\n",
    "   - Tunicates je druh živočíchov - Plášťovce\n",
    "     \n",
    "  <img src=\"data/tunicates.jfif\" alt=\"Workflow diagram\" width=\"40%\"/>"
   ]
  },
  {
   "cell_type": "raw",
   "id": "50c0ab85-a4d9-4a55-a311-c2e2930bc431",
   "metadata": {},
   "source": []
  },
  {
   "cell_type": "markdown",
   "id": "e213ce29-a8ec-48c7-a371-44d045c6af49",
   "metadata": {},
   "source": [
    "1.1.b. Aký je názov hľadaného kódovaného génu ? (Názov nájdete v rámci \"GENE\" na začiatku vyhľadávania). Ako sa tento gén nazýva pri hľadaní u človeka (\"INS homo sapiens\") a aké sú jeho iné kódovania ?"
   ]
  },
  {
   "cell_type": "raw",
   "id": "786703ab-7cdc-440c-bee1-6103a7f0941a",
   "metadata": {},
   "source": []
  },
  {
   "cell_type": "markdown",
   "id": "e8ec87fc-3ffd-44dc-91af-b8c64f8bb69b",
   "metadata": {},
   "source": [
    "1.1.c. Vo vyhľadávaní pre gén \"INS tunicates\" vyberte sekvenciu mRNA pre organizmus Ciona intestinalis (Sumka trubičkovitá). Napíšte jej taxonomické zaradenie (nájdete v ORGANISM)\n",
    "\n",
    "  <img src=\"data/cionaIntestinalis.jpg\" alt=\"Workflow diagram\" width=\"40%\"/>"
   ]
  },
  {
   "cell_type": "raw",
   "id": "cfffd962-22ec-4039-9610-0be2c2e55b24",
   "metadata": {},
   "source": []
  },
  {
   "cell_type": "markdown",
   "id": "cd09a856-cf5a-4dae-bcb5-9328b566a104",
   "metadata": {},
   "source": [
    "1.1.d. Vo vlastnostiach nájdite reťazec kódovaných aminokyselín (transláciu):"
   ]
  },
  {
   "cell_type": "markdown",
   "id": "832d41c8-ff51-4d6f-b003-8f1bd2559225",
   "metadata": {},
   "source": []
  },
  {
   "cell_type": "markdown",
   "id": "a7bc3953-8b4f-4ae8-baa2-1c3c5cb8493e",
   "metadata": {},
   "source": [
    "----\n",
    "#### 2. PubMed\n",
    "2.1.a. V databáze PubMed pomocou rozšíreného hľadania vyhľadajte článok ktorého autorom je Brian J North a v názve článku sa nachádza \"Cardiovascular Disease\" (atribút Title)"
   ]
  },
  {
   "cell_type": "raw",
   "id": "edd00dfa-c42a-45aa-b4e3-8c08bdae1a87",
   "metadata": {},
   "source": []
  },
  {
   "cell_type": "markdown",
   "id": "4d55f47a-24ad-41e0-b7c2-13f8c322afb2",
   "metadata": {},
   "source": [
    "2.1.b. Vytvorte citáciu článku vo formáte APA:"
   ]
  },
  {
   "cell_type": "raw",
   "id": "93e809ef-626c-401f-b264-800d2a13cbeb",
   "metadata": {},
   "source": []
  },
  {
   "cell_type": "markdown",
   "id": "a9c5c2f7-4959-4253-9167-23e703e3a2e3",
   "metadata": {},
   "source": [
    "2.1.c. Stiahnite si do súboru informácie o článku vo formáte Abstract (text) a nájdite v ňom pracovisko (fakultu) prvého autora článku (v sekcii Author Information):"
   ]
  },
  {
   "cell_type": "raw",
   "id": "de85275e-0cec-4865-a0b0-972e4595e078",
   "metadata": {},
   "source": []
  },
  {
   "cell_type": "markdown",
   "id": "483bea1d-e413-42d8-af5f-dbfeef110518",
   "metadata": {},
   "source": [
    "-----\n",
    "2.2.a. V databáze PubMed pomocou rozšíreného hľadania vyhľadajte články ktorých autorom je Jianping Jia a boli publikované v časopise \"The New England journal of medicine\" (atribút Journal)"
   ]
  },
  {
   "cell_type": "raw",
   "id": "258d436d-1701-40df-8399-1931b75ad63b",
   "metadata": {},
   "source": []
  },
  {
   "cell_type": "markdown",
   "id": "abb0b5a7-4e88-4637-9f5d-0945bcd52d14",
   "metadata": {},
   "source": [
    "2.2.b. Zoraďte zoznam výsledkov od najnovších (Most recent) a otvorte prvý článok (Biomarker Changes during 20 Years Preceding Alzheimer's Disease.)"
   ]
  },
  {
   "cell_type": "raw",
   "id": "40bb934e-8c1c-4c60-9817-009b6d9b7c1a",
   "metadata": {},
   "source": []
  },
  {
   "cell_type": "markdown",
   "id": "dcb51837-6b12-4717-bd61-532a25653f20",
   "metadata": {},
   "source": [
    "2.2.c. V zobrazení článku medzi podobnými článkami nájdite článok s názvom: \"A data-driven model of biomarker changes in sporadic Alzheimer's disease\""
   ]
  },
  {
   "cell_type": "raw",
   "id": "06289cdb-fecc-4013-86be-c7b1db1970b4",
   "metadata": {},
   "source": []
  },
  {
   "cell_type": "markdown",
   "id": "cba72cd1-0ddc-4467-b0ad-ab9d2d591a9b",
   "metadata": {},
   "source": [
    "2.2.d. Otvorte si tento článok a pomocou prepojení zobrazte celý text článku"
   ]
  },
  {
   "cell_type": "raw",
   "id": "5efad27b-dca7-44e8-9afb-043653710f34",
   "metadata": {},
   "source": []
  },
  {
   "cell_type": "markdown",
   "id": "0cac4485-bad9-4a9d-912b-50215dd1e999",
   "metadata": {},
   "source": [
    "2.2.e. Napíšte DOI článku a dátum jeho online publikácie (publikovaný v časopise Brain bol v Septembri 2014, online bol publikovaný skôr)"
   ]
  },
  {
   "cell_type": "raw",
   "id": "0c74e066-37bc-45df-87c4-ec3c6c7bd36a",
   "metadata": {},
   "source": []
  },
  {
   "cell_type": "markdown",
   "id": "4cc1788c-d0bf-450c-996c-02820446bf97",
   "metadata": {},
   "source": [
    "----\n",
    "##### Referencie\n",
    "\n",
    "https://www.coraldigest.org/index.php/Tunicates\n",
    "\n",
    "https://www.embrc-france.fr/en/nos-services/fourniture-de-ressources-biologiques/organismes-modeles/ciona-intestinalis-sea-squirt"
   ]
  },
  {
   "metadata": {},
   "cell_type": "markdown",
   "source": "",
   "id": "34bf0f3a3b7972d7"
  }
 ],
 "metadata": {
  "kernelspec": {
   "display_name": "Python 3 (ipykernel)",
   "language": "python",
   "name": "python3"
  },
  "language_info": {
   "codemirror_mode": {
    "name": "ipython",
    "version": 3
   },
   "file_extension": ".py",
   "mimetype": "text/x-python",
   "name": "python",
   "nbconvert_exporter": "python",
   "pygments_lexer": "ipython3",
   "version": "3.12.1"
  }
 },
 "nbformat": 4,
 "nbformat_minor": 5
}
