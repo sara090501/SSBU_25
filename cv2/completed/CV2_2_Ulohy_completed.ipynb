{
 "cells": [
  {
   "cell_type": "markdown",
   "id": "497228f1-fa14-47b6-83a1-7038726dc50c",
   "metadata": {},
   "source": [
    "## Doplnkově Úlohy\n",
    "\n",
    "---\n",
    "#### Úloha 1: Klasifikácia veku pacienta\n",
    "\n",
    "Vytvorte funkciu, ktorá každého pacienta zaradí do kategórie `minor` (<18 rokov), `adult` (18-65 rokov) alebo `senior` (>65 rokov). \n",
    "- Vstupom do funkcie je parameter `ages`, čo je štruktúra `list` obsahujúca vek niekoľkých pacientov.\n",
    "- Funkcia vracia štruktúru `dictionary`, ktorá pre každú kategóriu obsahuje počet pacientov v nej.\n",
    "- Vytvorte list `ages`, ktorý bude obsahovať aspoň 5 pacientov a vypíšte, počet pacientov podľa veku v jednotlivých kategóriách."
   ]
  },
  {
   "cell_type": "code",
   "id": "9ba64fc4-3e3d-4c1f-9e07-962ffe795964",
   "metadata": {
    "ExecuteTime": {
     "end_time": "2025-02-25T11:49:49.870462Z",
     "start_time": "2025-02-25T11:49:49.839364Z"
    }
   },
   "source": [
    "def classify_patients(ages):\n",
    "    ages_dict = {\"minor\": 0, \"adult\": 0, \"senior\": 0}\n",
    "    for age in ages:\n",
    "        if age < 18:\n",
    "            ages_dict[\"minor\"] += 1\n",
    "        elif age < 65:\n",
    "            ages_dict[\"adult\"] += 1\n",
    "        else:\n",
    "            ages_dict[\"senior\"] += 1\n",
    "    return ages_dict\n",
    "\n",
    "ages = [12, 25, 32, 45, 70]\n",
    "print(classify_patients(ages))"
   ],
   "outputs": [
    {
     "name": "stdout",
     "output_type": "stream",
     "text": [
      "{'minor': 1, 'adult': 3, 'senior': 1}\n"
     ]
    }
   ],
   "execution_count": 1
  },
  {
   "cell_type": "markdown",
   "id": "6a2eea7a-b43c-4e09-9040-210983983d22",
   "metadata": {},
   "source": [
    "#### Úloha 2: Spracovanie súborov s údajmi o pacientoch\n",
    "\n",
    "Zapište údaje o pacientoch (meno, diagnóza) do súboru s názvom `data/patients.csv`."
   ]
  },
  {
   "cell_type": "raw",
   "id": "b0cfcd94-236a-4423-beaf-24483826a3cc",
   "metadata": {},
   "source": [
    "data = [\n",
    "    [\"Terri Mcmillan\", \"Hypertension\"],\n",
    "    [\"David Thomas\", \"Diabetes\"],\n",
    "    [\"Joshua Stewart\", \"Diabetes\"],\n",
    "    [\"Jeffrey Martinez\", \"Depression\"],\n",
    "    [\"Victor Roth\", \"Chronic Pain\"],\n",
    "    [\"Timothy Schwartz\", \"Chronic Pain\"],\n",
    "    [\"Desiree Palmer\", \"Hypertension\"],\n",
    "    [\"Nathan Leonard\", \"Asthma\"],\n",
    "    [\"Sara Lane\", \"Chronic Pain\"],\n",
    "    [\"Ronald Riley\", \"Asthma\"],\n",
    "    [\"Brian Roberts\", \"Depression\"],\n",
    "    [\"Angel Harrington\", \"Hypertension\"],\n",
    "    [\"Christina Hernandez\", \"Hypertension\"],\n",
    "    [\"Christina Garza\", \"Asthma\"],\n",
    "    [\"Joshua Armstrong\", \"Diabetes\"],\n",
    "    [\"Lisa King\", \"Depression\"],\n",
    "    [\"Erica Ferguson\", \"Diabetes\"],\n",
    "    [\"Jesus Hansen\", \"Asthma\"],\n",
    "    [\"Michael Thompson\", \"Chronic Pain\"],\n",
    "    [\"Alexander Barajas\", \"Asthma\"]\n",
    "]"
   ]
  },
  {
   "cell_type": "code",
   "id": "307144ea-c176-42dd-b2ca-e6bf64ba6227",
   "metadata": {
    "ExecuteTime": {
     "end_time": "2025-02-25T11:49:53.576326Z",
     "start_time": "2025-02-25T11:49:53.560523Z"
    }
   },
   "source": [
    "\n",
    "import csv\n",
    "\n",
    "data = [\n",
    "    [\"Terri Mcmillan\", \"Hypertension\"],\n",
    "    [\"David Thomas\", \"Diabetes\"],\n",
    "    [\"Joshua Stewart\", \"Diabetes\"],\n",
    "    [\"Jeffrey Martinez\", \"Depression\"],\n",
    "    [\"Victor Roth\", \"Chronic Pain\"],\n",
    "    [\"Timothy Schwartz\", \"Chronic Pain\"],\n",
    "    [\"Desiree Palmer\", \"Hypertension\"],\n",
    "    [\"Nathan Leonard\", \"Asthma\"],\n",
    "    [\"Sara Lane\", \"Chronic Pain\"],\n",
    "    [\"Ronald Riley\", \"Asthma\"],\n",
    "    [\"Brian Roberts\", \"Depression\"],\n",
    "    [\"Angel Harrington\", \"Hypertension\"],\n",
    "    [\"Christina Hernandez\", \"Hypertension\"],\n",
    "    [\"Christina Garza\", \"Asthma\"],\n",
    "    [\"Joshua Armstrong\", \"Diabetes\"],\n",
    "    [\"Lisa King\", \"Depression\"],\n",
    "    [\"Erica Ferguson\", \"Diabetes\"],\n",
    "    [\"Jesus Hansen\", \"Asthma\"],\n",
    "    [\"Michael Thompson\", \"Chronic Pain\"],\n",
    "    [\"Alexander Barajas\", \"Asthma\"]\n",
    "]\n",
    "\n",
    "with open(\"data/patients.csv\", \"w\", newline=\"\") as file:\n",
    "    writer = csv.writer(file)\n",
    "    writer.writerow([\"name\", \"diagnosis\"])\n",
    "    writer.writerows(data)\n"
   ],
   "outputs": [],
   "execution_count": 2
  },
  {
   "cell_type": "markdown",
   "id": "b5c43341-bbc8-4073-8c66-fec5371c9486",
   "metadata": {},
   "source": [
    "#### Úloha 3: Načítanie údajov do štruktúry DataFrame a ich vizualizácia\n",
    "\n",
    "Načítajte údaje zo súboru `data/patients.csv` do štruktúry DataFrame (knižnica Pandas).\n",
    "- Vytvorte hlavičku pre tento DataFrame (pridajte názvy stĺpcov - `name` a `diagnosis`)\n",
    "- Pridajte do štruktúry DataFrame nový stĺpec s názvom \"ID\". hodnoty tohto stĺpca tvorí sekvencia čísel od 0 do 19.\n",
    "- Vypíšte hodnoty v stĺpci `diagnosis` a počet hodnôt pre jednotlivé diagnózy."
   ]
  },
  {
   "metadata": {
    "ExecuteTime": {
     "end_time": "2025-02-25T11:49:57.846231Z",
     "start_time": "2025-02-25T11:49:56.976295Z"
    }
   },
   "cell_type": "code",
   "source": [
    "import pandas as pd\n",
    "import matplotlib.pyplot as plt\n",
    "\n",
    "df = pd.read_csv(\"data/patients.csv\")\n",
    "df[\"ID\"] = range(len(df))\n",
    "print(df[\"diagnosis\"].value_counts())"
   ],
   "id": "eebfc61aa9ed1419",
   "outputs": [
    {
     "name": "stdout",
     "output_type": "stream",
     "text": [
      "diagnosis\n",
      "Asthma          5\n",
      "Hypertension    4\n",
      "Diabetes        4\n",
      "Chronic Pain    4\n",
      "Depression      3\n",
      "Name: count, dtype: int64\n"
     ]
    }
   ],
   "execution_count": 3
  },
  {
   "metadata": {},
   "cell_type": "markdown",
   "source": [
    "#### Úloha 4: Práca s obrazom\n",
    "Načítajte obrázok data/microscope_g.jpg a vykonajte na ňom operáciu priblíženia a orezania, tak aby na obrázku boli viditeľné iba bunky, nie okulár mikroskopu. (Použite súradnice (300, 550, 1000, 1250) - (left, top, right, bottom)) Nakoniec obrázok zobrazte.\n",
    "\n",
    "Použite funkcie knižnice PIL:\n",
    "   - `Image.open()` - [Dokumentácia open](https://pillow.readthedocs.io/en/stable/reference/Image.html#PIL.Image.open)\n",
    "   - `Image.resize()` - [Dokumentácia resize](https://pillow.readthedocs.io/en/stable/reference/Image.html#PIL.Image.Image.resize)\n",
    "   - `Image.crop()` - [Dokumentácia crop](https://pillow.readthedocs.io/en/stable/reference/Image.html#PIL.Image.Image.crop)\n",
    "   - `Image.show()` - [Dokumentácia show](https://pillow.readthedocs.io/en/stable/reference/Image.html#PIL.Image.Image.show)"
   ],
   "id": "38f28c45201f7d75"
  },
  {
   "metadata": {
    "ExecuteTime": {
     "end_time": "2025-02-25T11:50:00.400259Z",
     "start_time": "2025-02-25T11:50:00.305765Z"
    }
   },
   "cell_type": "code",
   "source": [
    "# create code\n",
    "from PIL import Image\n",
    "\n",
    "img = Image.open(\"data/microscope_g.jpg\")\n",
    "img = img.resize((img.width // 2, img.height // 2))\n",
    "img = img.crop((300, 550, 1000, 1250))\n",
    "img.show()"
   ],
   "id": "b249c9455708945f",
   "outputs": [],
   "execution_count": 4
  },
  {
   "metadata": {},
   "cell_type": "markdown",
   "source": [
    "#### Úloha 5: TODO\n",
    "Vytvorte triedu `PatientData`, ktorá načíta údaje zo CSV súboru do DataFrame a umožní základnú analýzu.\n",
    "- Načítanie CSV súboru v konštruktore (použite súbor `data/patients.csv`) a uloženie do atribútu typu **DataFrame**.\n",
    "- Metóda `count_diagnoses()`, ktorá vráti počet pacientov s jednotlivými diagnózami.\n",
    "- Metóda `get_most_common_diagnosis(n)`, ktorá vráti n najčastejších diagnóz.\n",
    "- Metóda `display_summary()`, ktorá zobrazí základné štatistiky."
   ],
   "id": "8217934c0f610b83"
  },
  {
   "metadata": {
    "ExecuteTime": {
     "end_time": "2025-02-25T11:50:04.272Z",
     "start_time": "2025-02-25T11:50:04.255986Z"
    }
   },
   "cell_type": "code",
   "source": [
    "# create code\n",
    "import pandas as pd\n",
    "\n",
    "class PatientData:\n",
    "    def __init__(self):\n",
    "        self.df = pd.read_csv(\"data/patients.csv\")\n",
    "\n",
    "    def count_diagnoses(self):\n",
    "        return self.df[\"diagnosis\"].value_counts()\n",
    "\n",
    "    def get_most_common_diagnosis(self, n):\n",
    "        return self.df[\"diagnosis\"].value_counts().head(n)\n",
    "\n",
    "    def display_summary(self):\n",
    "        print(self.df.describe())\n",
    "\n",
    "data = PatientData()\n",
    "print(data.count_diagnoses())\n",
    "print(data.get_most_common_diagnosis(2))\n",
    "data.display_summary()"
   ],
   "id": "79bbc777404c6bc6",
   "outputs": [
    {
     "name": "stdout",
     "output_type": "stream",
     "text": [
      "diagnosis\n",
      "Asthma          5\n",
      "Hypertension    4\n",
      "Diabetes        4\n",
      "Chronic Pain    4\n",
      "Depression      3\n",
      "Name: count, dtype: int64\n",
      "diagnosis\n",
      "Asthma          5\n",
      "Hypertension    4\n",
      "Name: count, dtype: int64\n",
      "                  name diagnosis\n",
      "count               20        20\n",
      "unique              20         5\n",
      "top     Terri Mcmillan    Asthma\n",
      "freq                 1         5\n"
     ]
    }
   ],
   "execution_count": 5
  }
 ],
 "metadata": {
  "kernelspec": {
   "display_name": "Python 3 (ipykernel)",
   "language": "python",
   "name": "python3"
  },
  "language_info": {
   "codemirror_mode": {
    "name": "ipython",
    "version": 3
   },
   "file_extension": ".py",
   "mimetype": "text/x-python",
   "name": "python",
   "nbconvert_exporter": "python",
   "pygments_lexer": "ipython3",
   "version": "3.12.1"
  }
 },
 "nbformat": 4,
 "nbformat_minor": 5
}
